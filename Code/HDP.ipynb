{
 "cells": [
  {
   "cell_type": "code",
   "execution_count": 2,
   "metadata": {},
   "outputs": [],
   "source": [
    "import gensim\n",
    "import numpy as np\n",
    "from gensim.corpora.dictionary import Dictionary\n",
    "from gensim.models import HdpModel"
   ]
  },
  {
   "cell_type": "code",
   "execution_count": null,
   "metadata": {},
   "outputs": [],
   "source": [
    "with open(\"./grolier15276.csv\") as infile:\n",
    "    for line in infile:\n",
    "        liste=line.split(',')\n",
    "        i=int(liste[0])-1\n",
    "        if len(liste)>=4:\n",
    "            liste=liste[1:]\n",
    "            for j in range(len(liste)//2):\n",
    "                word=int(liste[2*j])-1\n",
    "                occ=int(liste[2*j+1])\n",
    "                mat[word][i]=occ"
   ]
  },
  {
   "cell_type": "code",
   "execution_count": 45,
   "metadata": {},
   "outputs": [],
   "source": [
    "words = [line.rstrip('\\n') for line in open('grolier15276_words.txt')]\n",
    "idx2word = {(i+1): words[i] for i in range(len(words))}\n",
    "\n",
    "corpus = []\n",
    "with open(\"./grolier15276.csv\") as file:\n",
    "    for line in file:\n",
    "        doc = []\n",
    "        line = line.split(',')[1:]\n",
    "        if len(line) > 5:\n",
    "            for i in range(len(line)//2):\n",
    "                idx, count = int(line[2*i]), int(line[2*i+1])\n",
    "                doc = doc + [idx2word[idx]]*count \n",
    "            corpus.append(doc)"
   ]
  },
  {
   "cell_type": "code",
   "execution_count": 47,
   "metadata": {},
   "outputs": [],
   "source": [
    "common_dictionary = Dictionary(corpus)\n",
    "common_corpus = [common_dictionary.doc2bow(doc) for doc in corpus]"
   ]
  },
  {
   "cell_type": "code",
   "execution_count": 48,
   "metadata": {},
   "outputs": [],
   "source": [
    "hdp = HdpModel(common_corpus, common_dictionary)"
   ]
  },
  {
   "cell_type": "code",
   "execution_count": 50,
   "metadata": {},
   "outputs": [
    {
     "data": {
      "text/plain": [
       "[(0,\n",
       "  '0.004*century + 0.003*world + 0.003*war + 0.003*american + 0.003*united + 0.002*life + 0.002*art + 0.002*city + 0.002*government + 0.002*john + 0.002*history + 0.002*major + 0.002*french + 0.002*time + 0.002*national + 0.002*political + 0.002*north + 0.002*called + 0.002*south + 0.002*modern'),\n",
       " (1,\n",
       "  '0.007*species + 0.006*water + 0.005*family + 0.004*found + 0.003*called + 0.003*usually + 0.003*ft + 0.003*plants + 0.003*form + 0.003*cm + 0.003*world + 0.003*north + 0.003*common + 0.002*plant + 0.002*america + 0.002*deg + 0.002*united + 0.002*surface + 0.002*white + 0.002*leaves'),\n",
       " (2,\n",
       "  '0.005*music + 0.003*system + 0.003*light + 0.003*energy + 0.003*called + 0.003*time + 0.002*american + 0.002*theory + 0.002*space + 0.002*power + 0.002*radio + 0.002*systems + 0.002*form + 0.002*century + 0.002*earth + 0.002*field + 0.002*developed + 0.002*example + 0.002*sound + 0.002*world'),\n",
       " (3,\n",
       "  '0.008*cells + 0.008*blood + 0.006*disease + 0.006*body + 0.005*called + 0.004*cell + 0.004*diseases + 0.004*heart + 0.004*system + 0.003*cause + 0.003*usually + 0.003*form + 0.003*drugs + 0.003*human + 0.003*tissue + 0.003*animals + 0.003*treatment + 0.003*skin + 0.002*occur + 0.002*include'),\n",
       " (4,\n",
       "  '0.019*city + 0.011*km + 0.011*mi + 0.009*river + 0.008*population + 0.008*sq + 0.007*century + 0.007*center + 0.006*capital + 0.005*located + 0.005*north + 0.005*south + 0.005*deg + 0.004*major + 0.004*region + 0.004*largest + 0.004*ft + 0.004*sea + 0.004*include + 0.004*west'),\n",
       " (5,\n",
       "  '0.005*american + 0.005*war + 0.004*space + 0.004*john + 0.004*served + 0.004*world + 0.003*president + 0.003*united + 0.003*university + 0.003*william + 0.002*minister + 0.002*national + 0.002*july + 0.002*soviet + 0.002*life + 0.002*won + 0.002*june + 0.002*soyuz + 0.002*party + 0.002*government'),\n",
       " (6,\n",
       "  '0.016*library + 0.016*enrollment + 0.015*volumes + 0.013*university + 0.009*city + 0.008*college + 0.005*arts + 0.004*school + 0.004*center + 0.004*colleges + 0.004*degrees + 0.003*established + 0.003*alabama + 0.003*coeducational + 0.003*river + 0.003*undergraduate + 0.003*schools + 0.003*graduate + 0.003*mi + 0.003*sciences'),\n",
       " (7,\n",
       "  '0.003*american + 0.003*city + 0.002*won + 0.002*world + 0.002*john + 0.002*de + 0.002*king + 0.002*national + 0.002*life + 0.002*career + 0.002*greek + 0.002*advertising + 0.002*century + 0.002*major + 0.002*university + 0.001*york + 0.001*french + 0.001*english + 0.001*war + 0.001*art'),\n",
       " (8,\n",
       "  '0.009*africa + 0.008*mi + 0.008*km + 0.006*river + 0.006*city + 0.005*south + 0.005*sq + 0.005*lake + 0.003*population + 0.003*north + 0.003*west + 0.003*east + 0.003*ft + 0.003*capital + 0.003*located + 0.003*central + 0.003*sea + 0.002*center + 0.002*world + 0.002*largest'),\n",
       " (9,\n",
       "  '0.006*species + 0.005*family + 0.003*common + 0.003*genus + 0.002*plants + 0.002*usually + 0.002*flowers + 0.002*name + 0.002*leaves + 0.002*found + 0.002*cm + 0.002*body + 0.002*trees + 0.002*called + 0.002*native + 0.002*united + 0.002*cells + 0.002*tree + 0.002*animals + 0.002*white'),\n",
       " (10,\n",
       "  '0.003*city + 0.002*afghanistan + 0.002*united + 0.002*km + 0.002*century + 0.002*american + 0.002*mi + 0.002*population + 0.002*war + 0.001*de + 0.001*soviet + 0.001*center + 0.001*founded + 0.001*university + 0.001*world + 0.001*north + 0.001*river + 0.001*major + 0.001*country + 0.001*life'),\n",
       " (11,\n",
       "  '0.007*air + 0.004*force + 0.002*forces + 0.002*war + 0.002*energy + 0.002*field + 0.002*aircraft + 0.002*world + 0.002*particles + 0.002*compounds + 0.002*american + 0.001*united + 0.001*physics + 0.001*accelerator + 0.001*particle + 0.001*atoms + 0.001*university + 0.001*nuclear + 0.001*electrons + 0.001*carrier'),\n",
       " (12,\n",
       "  '0.004*acid + 0.004*hydrogen + 0.003*compounds + 0.003*water + 0.003*acids + 0.003*chemical + 0.002*atoms + 0.002*ions + 0.002*organic + 0.002*form + 0.002*carbon + 0.002*atom + 0.002*chemistry + 0.002*solution + 0.002*metal + 0.002*bases + 0.002*oxygen + 0.002*ion + 0.002*molecules + 0.002*agricultural'),\n",
       " (13,\n",
       "  '0.003*art + 0.002*century + 0.002*philosophy + 0.001*academy + 0.001*academies + 0.001*american + 0.001*russell + 0.001*de + 0.001*history + 0.001*greek + 0.001*gold + 0.001*analytic + 0.001*founded + 0.001*language + 0.001*schools + 0.001*life + 0.001*world + 0.001*french + 0.001*adhesives + 0.001*theory'),\n",
       " (14,\n",
       "  '0.003*american + 0.001*york + 0.001*university + 0.001*abolitionists + 0.001*abstract + 0.001*art + 0.001*college + 0.001*war + 0.001*john + 0.001*artists + 0.001*city + 0.001*de + 0.001*world + 0.001*slavery + 0.001*robert + 0.001*james + 0.001*united + 0.001*king + 0.001*french + 0.001*william'),\n",
       " (15,\n",
       "  '0.002*city + 0.002*american + 0.002*university + 0.001*africa + 0.001*french + 0.001*universities + 0.001*king + 0.001*education + 0.001*century + 0.001*mi + 0.001*john + 0.001*south + 0.001*km + 0.001*war + 0.001*white + 0.001*world + 0.001*adelaide + 0.001*career + 0.001*founded + 0.001*death'),\n",
       " (16,\n",
       "  '0.003*languages + 0.002*language + 0.002*algae + 0.002*spoken + 0.002*hebrew + 0.002*arabic + 0.001*semitic + 0.001*century + 0.001*written + 0.001*south + 0.001*million + 0.001*branches + 0.001*africa + 0.001*script + 0.001*family + 0.001*aiken + 0.001*cell + 0.001*modern + 0.001*egyptian + 0.001*american'),\n",
       " (17,\n",
       "  '0.003*music + 0.002*african + 0.002*africa + 0.002*light + 0.002*alloys + 0.001*songs + 0.001*common + 0.001*alloy + 0.001*material + 0.001*properties + 0.001*absorption + 0.001*found + 0.001*agricultural + 0.001*structure + 0.001*instruments + 0.001*container + 0.001*iron + 0.001*musical + 0.001*usually + 0.001*played'),\n",
       " (18,\n",
       "  '0.004*albania + 0.002*country + 0.002*party + 0.001*government + 0.001*km + 0.001*world + 0.001*war + 0.001*population + 0.001*albanian + 0.001*city + 0.001*mi + 0.001*major + 0.001*sq + 0.001*communist + 0.001*political + 0.001*century + 0.001*region + 0.001*river + 0.001*roman + 0.001*death'),\n",
       " (19,\n",
       "  '0.002*aggression + 0.001*behavior + 0.001*children + 0.001*american + 0.001*son + 0.001*family + 0.001*adams + 0.001*life + 0.001*abraham + 0.001*aggressive + 0.001*foster + 0.001*war + 0.001*south + 0.001*age + 0.001*john + 0.001*king + 0.001*greek + 0.001*animals + 0.001*poet + 0.001*mainland')]"
      ]
     },
     "execution_count": 50,
     "metadata": {},
     "output_type": "execute_result"
    }
   ],
   "source": [
    "hdp.show_topics()"
   ]
  },
  {
   "cell_type": "code",
   "execution_count": null,
   "metadata": {},
   "outputs": [],
   "source": []
  }
 ],
 "metadata": {
  "kernelspec": {
   "display_name": "Python 3",
   "language": "python",
   "name": "python3"
  },
  "language_info": {
   "codemirror_mode": {
    "name": "ipython",
    "version": 3
   },
   "file_extension": ".py",
   "mimetype": "text/x-python",
   "name": "python",
   "nbconvert_exporter": "python",
   "pygments_lexer": "ipython3",
   "version": "3.6.2"
  }
 },
 "nbformat": 4,
 "nbformat_minor": 2
}
