{
 "cells": [
  {
   "cell_type": "code",
   "execution_count": 4,
   "metadata": {},
   "outputs": [],
   "source": [
    "import gensim\n",
    "import numpy as np\n",
    "from gensim.corpora.dictionary import Dictionary\n",
    "from gensim.models import HdpModel"
   ]
  },
  {
   "cell_type": "code",
   "execution_count": 5,
   "metadata": {},
   "outputs": [],
   "source": [
    "words = [line.rstrip('\\n') for line in open('grolier15276_words.txt')]\n",
    "idx2word = {(i+1): words[i] for i in range(len(words))}\n",
    "\n",
    "corpus = []\n",
    "with open(\"./grolier15276.csv\") as file:\n",
    "    for line in file:\n",
    "        doc = []\n",
    "        line = line.split(',')[1:]\n",
    "        if len(line) > 5:\n",
    "            for i in range(len(line)//2):\n",
    "                idx, count = int(line[2*i]), int(line[2*i+1])\n",
    "                doc = doc + [idx2word[idx]]*count \n",
    "            corpus.append(doc)"
   ]
  },
  {
   "cell_type": "code",
   "execution_count": 6,
   "metadata": {},
   "outputs": [],
   "source": [
    "common_dictionary = Dictionary(corpus)\n",
    "common_corpus = [common_dictionary.doc2bow(doc) for doc in corpus]"
   ]
  },
  {
   "cell_type": "code",
   "execution_count": 7,
   "metadata": {},
   "outputs": [],
   "source": [
    "hdp = HdpModel(common_corpus, common_dictionary)"
   ]
  },
  {
   "cell_type": "code",
   "execution_count": 8,
   "metadata": {},
   "outputs": [
    {
     "data": {
      "text/plain": [
       "[(0,\n",
       "  '0.006*war + 0.004*government + 0.004*united + 0.003*world + 0.003*american + 0.003*century + 0.003*political + 0.003*president + 0.003*party + 0.003*national + 0.002*power + 0.002*british + 0.002*john + 0.002*law + 0.002*french + 0.002*city + 0.002*history + 0.002*north + 0.002*people + 0.002*south'),\n",
       " (1,\n",
       "  '0.006*art + 0.005*century + 0.003*music + 0.003*american + 0.003*life + 0.003*world + 0.003*style + 0.003*john + 0.003*history + 0.002*de + 0.002*french + 0.002*english + 0.002*modern + 0.002*time + 0.002*form + 0.002*architecture + 0.002*painting + 0.002*period + 0.002*city + 0.002*eng'),\n",
       " (2,\n",
       "  '0.004*called + 0.003*water + 0.003*system + 0.003*form + 0.003*energy + 0.002*time + 0.002*earth + 0.002*light + 0.002*body + 0.002*chemical + 0.002*example + 0.002*surface + 0.002*usually + 0.002*cells + 0.002*theory + 0.002*process + 0.002*world + 0.002*found + 0.002*blood + 0.002*air'),\n",
       " (3,\n",
       "  '0.007*km + 0.007*mi + 0.006*population + 0.006*sq + 0.006*south + 0.005*north + 0.005*deg + 0.005*river + 0.005*major + 0.004*ft + 0.004*city + 0.004*world + 0.003*west + 0.003*east + 0.003*century + 0.003*largest + 0.003*united + 0.003*government + 0.003*sea + 0.003*region'),\n",
       " (4,\n",
       "  '0.012*species + 0.009*family + 0.005*cm + 0.005*found + 0.005*plants + 0.005*ft + 0.004*north + 0.004*leaves + 0.004*usually + 0.004*world + 0.004*america + 0.004*plant + 0.004*white + 0.004*genus + 0.004*common + 0.004*water + 0.004*flowers + 0.004*united + 0.003*called + 0.003*trees'),\n",
       " (5,\n",
       "  '0.028*city + 0.009*mi + 0.009*km + 0.009*center + 0.009*century + 0.008*population + 0.008*river + 0.007*capital + 0.006*located + 0.005*port + 0.004*sq + 0.004*university + 0.004*deg + 0.004*north + 0.004*major + 0.004*county + 0.004*include + 0.004*site + 0.004*region + 0.004*largest'),\n",
       " (6,\n",
       "  '0.007*american + 0.007*university + 0.005*library + 0.005*volumes + 0.005*enrollment + 0.005*won + 0.004*college + 0.004*world + 0.004*york + 0.004*john + 0.003*national + 0.003*war + 0.003*career + 0.003*city + 0.003*served + 0.003*school + 0.003*united + 0.003*president + 0.002*william + 0.002*player'),\n",
       " (7,\n",
       "  '0.008*king + 0.005*war + 0.004*john + 0.004*son + 0.004*roman + 0.003*emperor + 0.003*france + 0.003*death + 0.003*de + 0.003*american + 0.003*french + 0.003*charles + 0.003*served + 0.003*henry + 0.002*william + 0.002*history + 0.002*father + 0.002*university + 0.002*life + 0.002*world'),\n",
       " (8,\n",
       "  '0.003*american + 0.003*life + 0.002*include + 0.002*plays + 0.002*eng + 0.002*disease + 0.002*blood + 0.002*wrote + 0.002*play + 0.002*called + 0.002*diseases + 0.002*de + 0.002*york + 0.001*english + 0.001*world + 0.001*film + 0.001*john + 0.001*united + 0.001*french + 0.001*death'),\n",
       " (9,\n",
       "  '0.002*alcoholism + 0.002*agricultural + 0.001*social + 0.001*food + 0.001*system + 0.001*development + 0.001*american + 0.001*called + 0.001*alcoholic + 0.001*family + 0.001*alcohol + 0.001*programs + 0.001*property + 0.001*life + 0.001*body + 0.001*education + 0.001*united + 0.001*include + 0.001*drinking + 0.001*age'),\n",
       " (10,\n",
       "  '0.004*accounting + 0.002*anatomy + 0.002*financial + 0.001*air + 0.001*analog + 0.001*public + 0.001*blood + 0.001*century + 0.001*animals + 0.001*information + 0.001*earnings + 0.001*american + 0.001*body + 0.001*studies + 0.001*study + 0.001*theory + 0.001*human + 0.001*called + 0.001*principles + 0.001*statement'),\n",
       " (11,\n",
       "  '0.002*ft + 0.002*airships + 0.002*world + 0.001*war + 0.001*airship + 0.001*gas + 0.001*air + 0.001*aircraft + 0.001*united + 0.001*compounds + 0.001*called + 0.001*built + 0.001*amplifiers + 0.001*gear + 0.001*adding + 0.001*cu + 0.001*acid + 0.001*engines + 0.001*german + 0.001*flight'),\n",
       " (12,\n",
       "  '0.003*albania + 0.002*country + 0.002*alps + 0.001*km + 0.001*government + 0.001*mi + 0.001*world + 0.001*party + 0.001*war + 0.001*ft + 0.001*albanian + 0.001*diderot + 0.001*american + 0.001*major + 0.001*europe + 0.001*communist + 0.001*population + 0.001*political + 0.001*century + 0.001*power'),\n",
       " (13,\n",
       "  '0.006*languages + 0.003*spoken + 0.002*adams + 0.002*language + 0.002*people + 0.002*american + 0.002*africa + 0.002*john + 0.002*family + 0.002*african + 0.001*northern + 0.001*aging + 0.001*cells + 0.001*quincy + 0.001*changes + 0.001*life + 0.001*branch + 0.001*example + 0.001*widely + 0.001*age'),\n",
       " (14,\n",
       "  '0.002*age + 0.002*bronze + 0.002*field + 0.002*crete + 0.002*mainland + 0.001*aegean + 0.001*mycenaean + 0.001*civilization + 0.001*energy + 0.001*particles + 0.001*built + 0.001*electron + 0.001*machine + 0.001*particle + 0.001*physics + 0.001*university + 0.001*called + 0.001*palaces + 0.001*electrons + 0.001*accelerator'),\n",
       " (15,\n",
       "  '0.008*air + 0.004*force + 0.003*forces + 0.002*war + 0.001*world + 0.001*united + 0.001*foster + 0.001*strategic + 0.001*army + 0.001*children + 0.001*american + 0.001*family + 0.001*missiles + 0.001*major + 0.001*command + 0.001*military + 0.001*apostolic + 0.001*separate + 0.001*city + 0.001*power'),\n",
       " (16,\n",
       "  '0.003*afghanistan + 0.002*soviet + 0.001*american + 0.001*country + 0.001*century + 0.001*major + 0.001*united + 0.001*government + 0.001*population + 0.001*war + 0.001*city + 0.001*modern + 0.001*mi + 0.001*km + 0.001*north + 0.001*east + 0.001*agricultural + 0.001*british + 0.001*central + 0.001*south'),\n",
       " (17,\n",
       "  '0.003*plane + 0.003*coordinate + 0.002*system + 0.002*space + 0.002*coordinates + 0.002*aerospace + 0.002*acid + 0.002*aircraft + 0.002*rain + 0.002*geometry + 0.002*called + 0.001*research + 0.001*analytic + 0.001*polar + 0.001*systems + 0.001*origin + 0.001*positive + 0.001*perpendicular + 0.001*united + 0.001*industry'),\n",
       " (18,\n",
       "  '0.002*art + 0.001*academies + 0.001*alcohols + 0.001*academy + 0.001*alberti + 0.001*allegory + 0.001*american + 0.001*rome + 0.001*founded + 0.001*alcohol + 0.001*love + 0.001*de + 0.001*greek + 0.001*painting + 0.001*history + 0.001*carbon + 0.001*royal + 0.001*modern + 0.001*renaissance + 0.001*school'),\n",
       " (19,\n",
       "  '0.003*airports + 0.002*airport + 0.001*service + 0.001*aircraft + 0.001*air + 0.001*world + 0.001*traffic + 0.001*commercial + 0.001*planes + 0.001*major + 0.001*time + 0.001*airlines + 0.001*war + 0.001*airline + 0.001*flight + 0.001*government + 0.001*facilities + 0.001*american + 0.001*flights + 0.001*culture')]"
      ]
     },
     "execution_count": 8,
     "metadata": {},
     "output_type": "execute_result"
    }
   ],
   "source": [
    "hdp.show_topics()"
   ]
  },
  {
   "cell_type": "code",
   "execution_count": null,
   "metadata": {},
   "outputs": [],
   "source": []
  }
 ],
 "metadata": {
  "kernelspec": {
   "display_name": "Python 3",
   "language": "python",
   "name": "python3"
  },
  "language_info": {
   "codemirror_mode": {
    "name": "ipython",
    "version": 3
   },
   "file_extension": ".py",
   "mimetype": "text/x-python",
   "name": "python",
   "nbconvert_exporter": "python",
   "pygments_lexer": "ipython3",
   "version": "3.6.2"
  }
 },
 "nbformat": 4,
 "nbformat_minor": 2
}
